{
 "cells": [
  {
   "cell_type": "code",
   "execution_count": 39,
   "metadata": {},
   "outputs": [],
   "source": [
    "import numpy as np\n",
    "import matplotlib.pyplot as plt\n",
    "from matplotlib.animation import FuncAnimation\n",
    "from PIL import Image\n",
    "import math\n",
    "from scipy.optimize import curve_fit\n"
   ]
  },
  {
   "cell_type": "code",
   "execution_count": 40,
   "metadata": {},
   "outputs": [],
   "source": [
    "#Functions\n",
    "def alpha(z):\n",
    "    return np.sin(np.pi * z / 2)\n",
    "def dBr_dz(B_r):\n",
    "    return np.gradient(B_r, dz)\n",
    "def d2Br_dz2(B_r):\n",
    "    return np.gradient(np.gradient(B_r, dz), dz)\n",
    "def d2Bphi_dz2(B_phi):\n",
    "    return np.gradient(np.gradient(B_phi, dz), dz)\n",
    "def dBrdt(B_r, B_phi):\n",
    "    return - (h * alpha_0 / eta_t) * dBr_dz(B_phi * alpha(z)) + d2Br_dz2(B_r)\n",
    "def dBphidt(B_r, B_phi):\n",
    "    return - (h**2 * q * Omega / eta_t) * B_r + d2Bphi_dz2(B_phi)\n",
    "\n",
    "def rk4_step(B_r, B_phi):\n",
    "    k1_r = dt * dBrdt(B_r, B_phi)    \n",
    "    k1_phi = dt * dBphidt(B_r, B_phi)    \n",
    "    \n",
    "    k2_r = dt * dBrdt(B_r + 0.5 * k1_r, B_phi + 0.5 * k1_phi)\n",
    "    k2_phi = dt * dBphidt(B_r + 0.5 * k1_r, B_phi + 0.5 * k1_phi)\n",
    "    \n",
    "    k3_r = dt * dBrdt(B_r + 0.5 * k2_r, B_phi + 0.5 * k2_phi)\n",
    "    k3_phi = dt * dBphidt(B_r + 0.5 * k2_r, B_phi + 0.5 * k2_phi)    \n",
    "    \n",
    "    k4_r = dt * dBrdt(B_r + k3_r, B_phi + k3_phi)    \n",
    "    k4_phi = dt * dBphidt(B_r + k3_r, B_phi + k3_phi)\n",
    "    \n",
    "    B_r_new = B_r + (k1_r + 2 * k2_r + 2 * k3_r + k4_r) / 6\n",
    "    B_phi_new = B_phi + (k1_phi + 2 * k2_phi + 2 * k3_phi + k4_phi) / 6\n",
    "    \n",
    "    B_r_new[0] = 0\n",
    "    B_r_new[-1] = 0\n",
    "    B_phi_new[0] = 0\n",
    "    B_phi_new[-1] = 0\n",
    "    \n",
    "    return B_r_new, B_phi_new\n",
    "def initial_condition(x):\n",
    "    return np.sin(np.pi *((x+L)/(2*L)))\n",
    "def update_plot1(frame):\n",
    "    global B_r0, B_phi0,BrvT,BphivT\n",
    "    B_r0, B_phi0 = rk4_step(B_r0, B_phi0)\n",
    "    BrvT[frame,:]=B_r0.copy()\n",
    "    BphivT[frame,:]=B_phi0.copy()\n",
    "    line_br.set_ydata(B_r0)\n",
    "    line_bphi.set_ydata(B_phi0)\n",
    "    ax.set_title(f'Time = {(frame+1) * 100 * dt:.2f}')\n",
    "    min_B = np.min([np.min(B_r0), np.min(B_phi0)])\n",
    "    max_B = np.max([np.max(B_r0), np.max(B_phi0)])\n",
    "    ax.set_ylim(1.1*min_B , 1.1*max_B)    \n",
    "    return line_br, line_bphi"
   ]
  },
  {
   "cell_type": "code",
   "execution_count": 41,
   "metadata": {},
   "outputs": [
    {
     "name": "stdout",
     "output_type": "stream",
     "text": [
      "Dynamo Number: -0.1\n"
     ]
    }
   ],
   "source": [
    "# Parameters\n",
    "h = 1.0   \n",
    "alpha_0 = 1.0  \n",
    "q = 1.0   \n",
    "Omega = 1.0  \n",
    "eta_t = 10.0\n",
    "t0=1.0\n",
    "#grid parameters\n",
    "L = 10.0  \n",
    "N = 100   \n",
    "dt = 0.01 \n",
    "T = 500\n",
    "max_frames = int(T / (100 * dt))\n",
    "nt=int(T/dt)\n",
    "Tlis = np.linspace(0, T, max_frames)\n",
    "dynamo_number = - (q * Omega * alpha_0 * h**3) / eta_t\n",
    "print(\"Dynamo Number:\", dynamo_number)\n",
    "BrvT =np.zeros((max_frames,N))\n",
    "BphivT = np.zeros((max_frames,N))\n",
    "dz = 2*L / (N - 1)\n",
    "z = np.linspace(-L, L, N)\n",
    "\n",
    "B_r0 = np.zeros(N)\n",
    "B_phi0 = np.zeros(N)\n",
    "B_r0=initial_condition(z)\n",
    "B_phi0=initial_condition(z)\n",
    "#changing to dimensionless units\n",
    "\n",
    "Tlis=Tlis/t0\n",
    "z=z/h\n",
    "alpha_0=alpha_0*t0/h\n",
    "Omega=Omega*t0\n",
    "\n",
    "BrvT[0,:]=B_r0\n",
    "BphivT[0,:]=B_phi0\n",
    "fig, ax = plt.subplots()\n",
    "ax.set_xlim(-L, L)\n",
    "ax.set_xlabel('z')\n",
    "ax.set_ylabel('Magnetic Field')\n",
    "ax.set_title('Magnetic Field Evolution')\n",
    "\n",
    "line_br, = ax.plot(z, B_r0, label='$B_r$')\n",
    "line_bphi, = ax.plot(z, B_phi0, label='$B_{\\phi}$')\n",
    "ax.legend()\n",
    "ani = FuncAnimation(fig, update_plot1, frames=max_frames, interval=200, blit=True)#this also doubles as the main loop\n",
    "ani.save(f'magnetic_field_evolution(T={T}).gif', writer='pillow')\n",
    "plt.show()\n"
   ]
  },
  {
   "cell_type": "code",
   "execution_count": null,
   "metadata": {},
   "outputs": [
    {
     "name": "stdout",
     "output_type": "stream",
     "text": [
      "Gamma from fit: 0.9999999898411418\n"
     ]
    },
    {
     "name": "stderr",
     "output_type": "stream",
     "text": [
      "C:\\Users\\DeLL\\AppData\\Roaming\\Python\\Python311\\site-packages\\scipy\\optimize\\_minpack_py.py:966: RuntimeWarning: overflow encountered in square\n",
      "  cost = np.sum(infodict['fvec'] ** 2)\n",
      "C:\\Users\\DeLL\\AppData\\Roaming\\Python\\Python311\\site-packages\\scipy\\optimize\\_minpack_py.py:1004: RuntimeWarning: invalid value encountered in multiply\n",
      "  pcov = pcov * s_sq\n"
     ]
    }
   ],
   "source": [
    "\n",
    "def get_gamma(BrvT,BphivT):\n",
    "\n",
    "    b_fit=[]\n",
    "    b_fit2=[]\n",
    "    for i in range(0,len(BrvT)):\n",
    "        B=BrvT[i]\n",
    "        b_fit.append(B[index])\n",
    "        b_fit.append(BphivT[i][index])\n",
    "    def exponential_func(t, B0, gamma):\n",
    "        return B0 * np.exp(gamma * t)\n",
    "    Tlis = np.linspace(0, T, max_frames)\n",
    "    popt, pcov = curve_fit(exponential_func, Tlis, b_fit)\n",
    "    popt1, pcov1 = curve_fit(exponential_func, Tlis, b_fit2)\n",
    "    \n",
    "    print(\"Gamma from fit for B_r:\", popt[1])#global fit\n",
    "    print(\"Gamma from fit for B_phi:\", popt1[1])\n",
    "\n",
    "    gamma=popt[1]\n",
    "    log_B = np.log(b_fit)\n",
    "    plt.plot(Tlis,log_B,label=\"at z=0\")\n",
    "    plt.ylabel(\"log B\")\n",
    "    plt.xlabel(\"T\")\n",
    "    plt.title(\"log B vs T\")\n",
    "    plt.grid()\n",
    "    plt.legend()\n",
    "    plt.show()"
   ]
  },
  {
   "cell_type": "code",
   "execution_count": null,
   "metadata": {},
   "outputs": [],
   "source": [
    "get_gamma(BrvT,B_phi0)"
   ]
  },
  {
   "cell_type": "code",
   "execution_count": null,
   "metadata": {},
   "outputs": [
    {
     "name": "stdout",
     "output_type": "stream",
     "text": [
      "Slope of the first segment: -0.0010347775320622195\n",
      "Slope of the second segment: -0.0002008062948690564\n"
     ]
    },
    {
     "data": {
      "image/png": "[encoded data removed]",
      "text/plain": [
       "<Figure size 640x480 with 1 Axes>"
      ]
     },
     "metadata": {},
     "output_type": "display_data"
    }
   ],
   "source": [
    "split_index=50\n",
    "def onevarsum(a):#finds sum of 1 variable\n",
    "    sum1=0\n",
    "    for i in range(len(a)):\n",
    "        sum1+=a[i]\n",
    "    return sum1\n",
    "def twovarsum(a,b):\n",
    "    sum1=0\n",
    "    for i in range(len(a)):\n",
    "        sum1+=(a[i]*b[i])\n",
    "    return sum1\n",
    "def interceptandslope(x,y):#least square fit\n",
    "    s=len(x)\n",
    "    sx=onevarsum(x)\n",
    "    sxx=twovarsum(x,x)\n",
    "    sy=onevarsum(y)\n",
    "    sxy=twovarsum(x,y)\n",
    "    delt=(s*sxx-(sx**2))\n",
    "    intercept=(sxx*sy-sx*sxy)/delt\n",
    "    slop=(sxy*s-sx*sy)/delt\n",
    "    errslope=(s/delt)**0.5\n",
    "    errinter=(sxx/delt)**0.5\n",
    "    return(slop,intercept)#,errinter,errslope\n",
    "slope1, intercept1 = interceptandslope(Tlis[:split_index], log_B[:split_index])\n",
    "slope2, intercept2 = interceptandslope(Tlis[split_index:], log_B[split_index:])\n",
    "print(\"Slope of the first segment:\", slope1)#these are local slopes in time\n",
    "print(\"Slope of the second segment:\", slope2)\n",
    "plt.plot(Tlis, log_B, label=\"log B at z=0\")\n",
    "plt.plot(Tlis[:split_index], slope1 * Tlis[:split_index] + intercept1, color='red', label=f\"Slope 1: {slope1:.5f}\")\n",
    "plt.plot(Tlis[split_index:], slope2 * Tlis[split_index:] + intercept2, color='green', label=f\"Slope 2: {slope2:.5f}\")\n",
    "\n",
    "plt.ylabel(\"log B\")\n",
    "plt.xlabel(\"T\")\n",
    "plt.title(\"log B vs T\")\n",
    "plt.grid()\n",
    "plt.legend()\n",
    "plt.show()"
   ]
  },
  {
   "cell_type": "code",
   "execution_count": null,
   "metadata": {},
   "outputs": [
    {
     "name": "stdout",
     "output_type": "stream",
     "text": [
      "[ 0.01        0.11090909  0.21181818  0.31272727  0.41363636  0.51454545\n",
      "  0.61545455  0.71636364  0.81727273  0.91818182  1.01909091  1.12\n",
      "  1.22090909  1.32181818  1.42272727  1.52363636  1.62454545  1.72545455\n",
      "  1.82636364  1.92727273  2.02818182  2.12909091  2.23        2.33090909\n",
      "  2.43181818  2.53272727  2.63363636  2.73454545  2.83545455  2.93636364\n",
      "  3.03727273  3.13818182  3.23909091  3.34        3.44090909  3.54181818\n",
      "  3.64272727  3.74363636  3.84454545  3.94545455  4.04636364  4.14727273\n",
      "  4.24818182  4.34909091  4.45        4.55090909  4.65181818  4.75272727\n",
      "  4.85363636  4.95454545  5.05545455  5.15636364  5.25727273  5.35818182\n",
      "  5.45909091  5.56        5.66090909  5.76181818  5.86272727  5.96363636\n",
      "  6.06454545  6.16545455  6.26636364  6.36727273  6.46818182  6.56909091\n",
      "  6.67        6.77090909  6.87181818  6.97272727  7.07363636  7.17454545\n",
      "  7.27545455  7.37636364  7.47727273  7.57818182  7.67909091  7.78\n",
      "  7.88090909  7.98181818  8.08272727  8.18363636  8.28454545  8.38545455\n",
      "  8.48636364  8.58727273  8.68818182  8.78909091  8.89        8.99090909\n",
      "  9.09181818  9.19272727  9.29363636  9.39454545  9.49545455  9.59636364\n",
      "  9.69727273  9.79818182  9.89909091 10.        ]\n"
     ]
    },
    {
     "ename": "NameError",
     "evalue": "name 'm_e' is not defined",
     "output_type": "error",
     "traceback": [
      "\u001b[1;31m---------------------------------------------------------------------------\u001b[0m",
      "\u001b[1;31mNameError\u001b[0m                                 Traceback (most recent call last)",
      "Cell \u001b[1;32mIn[38], line 29\u001b[0m\n\u001b[0;32m     27\u001b[0m \u001b[38;5;28mprint\u001b[39m(eta_t_values)\n\u001b[0;32m     28\u001b[0m \u001b[38;5;66;03m# Find the critical dynamo number\u001b[39;00m\n\u001b[1;32m---> 29\u001b[0m critical_dynamo_number \u001b[38;5;241m=\u001b[39m \u001b[43mfind_critical_dynamo_number\u001b[49m\u001b[43m(\u001b[49m\u001b[43meta_t_values\u001b[49m\u001b[43m)\u001b[49m\n\u001b[0;32m     31\u001b[0m \u001b[38;5;66;03m# Print the critical dynamo number\u001b[39;00m\n\u001b[0;32m     32\u001b[0m \u001b[38;5;28;01mif\u001b[39;00m critical_dynamo_number \u001b[38;5;129;01mis\u001b[39;00m \u001b[38;5;129;01mnot\u001b[39;00m \u001b[38;5;28;01mNone\u001b[39;00m:\n",
      "Cell \u001b[1;32mIn[38], line 11\u001b[0m, in \u001b[0;36mfind_critical_dynamo_number\u001b[1;34m(eta_t_values)\u001b[0m\n\u001b[0;32m      8\u001b[0m     B_r0, B_phi0 \u001b[38;5;241m=\u001b[39m rk4_step(B_r0, B_phi0)\n\u001b[0;32m     10\u001b[0m magnetic_field_no_z \u001b[38;5;241m=\u001b[39m np\u001b[38;5;241m.\u001b[39msqrt(B_r0 \u001b[38;5;241m*\u001b[39m\u001b[38;5;241m*\u001b[39m \u001b[38;5;241m2\u001b[39m \u001b[38;5;241m+\u001b[39m B_phi0 \u001b[38;5;241m*\u001b[39m\u001b[38;5;241m*\u001b[39m \u001b[38;5;241m2\u001b[39m)\u001b[38;5;66;03m#if this value decreases we can say that the dynamo is decaying and thus is not growing\u001b[39;00m\n\u001b[1;32m---> 11\u001b[0m \u001b[43mm_e\u001b[49m\u001b[38;5;241m.\u001b[39mappend(magnetic_field_no_z)\n\u001b[0;32m     12\u001b[0m \u001b[38;5;28;01mif\u001b[39;00m magnetic_energy \u001b[38;5;241m>\u001b[39m \u001b[38;5;241m1e-6\u001b[39m:  \u001b[38;5;66;03m# Adjust the threshold as needed\u001b[39;00m\n\u001b[0;32m     13\u001b[0m     \u001b[38;5;66;03m# If magnetic energy grows, append the eta_t value to the critical_dynamo_numbers list\u001b[39;00m\n\u001b[0;32m     14\u001b[0m     critical_dynamo_numbers\u001b[38;5;241m.\u001b[39mappend(eta_t)\n",
      "\u001b[1;31mNameError\u001b[0m: name 'm_e' is not defined"
     ]
    }
   ],
   "source": [
    "def find_critical_dynamo_number(eta_t_values):\n",
    "    critical_dynamo_numbers = []\n",
    "    for eta_t in eta_t_values:\n",
    "        B_r0 = initial_condition(z)\n",
    "        B_phi0 = initial_condition(z)        \n",
    "        \n",
    "        for _ in range(max_frames):\n",
    "            B_r0, B_phi0 = rk4_step(B_r0, B_phi0)\n",
    "        \n",
    "        magnetic_field_no_z = np.sqrt(B_r0 ** 2 + B_phi0 ** 2)#if this value decreases we can say that the dynamo is decaying and thus is not growing\n",
    "        m_e.append(magnetic_field_no_z)\n",
    "        if magnetic_energy > 1e-6:  # Adjust the threshold as needed\n",
    "            # If magnetic energy grows, append the eta_t value to the critical_dynamo_numbers list\n",
    "            critical_dynamo_numbers.append(eta_t)\n",
    "        else:\n",
    "            # If magnetic energy does not grow, break the loop\n",
    "            break\n",
    "    \n",
    "    # Return the critical dynamo number\n",
    "    if critical_dynamo_numbers:\n",
    "        return max(critical_dynamo_numbers)\n",
    "    else:\n",
    "        return None\n",
    "\n",
    "# Define a range of eta_t values to iterate over\n",
    "eta_t_values = np.linspace(0.01, 10.0, 100)\n",
    "print(eta_t_values)\n",
    "# Find the critical dynamo number\n",
    "critical_dynamo_number = find_critical_dynamo_number(eta_t_values)\n",
    "\n",
    "# Print the critical dynamo number\n",
    "if critical_dynamo_number is not None:\n",
    "    print(\"Critical dynamo number:\", critical_dynamo_number)\n",
    "else:\n",
    "    print(\"Dynamo action is not present in the given range of eta_t values.\")\n"
   ]
  }
 ],
 "metadata": {
  "kernelspec": {
   "display_name": "Python 3",
   "language": "python",
   "name": "python3"
  },
  "language_info": {
   "codemirror_mode": {
    "name": "ipython",
    "version": 3
   },
   "file_extension": ".py",
   "mimetype": "text/x-python",
   "name": "python",
   "nbconvert_exporter": "python",
   "pygments_lexer": "ipython3",
   "version": "3.11.4"
  }
 },
 "nbformat": 4,
 "nbformat_minor": 2
}
