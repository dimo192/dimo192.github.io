{
 "cells": [
  {
   "cell_type": "code",
   "execution_count": 4,
   "metadata": {},
   "outputs": [
    {
     "ename": "TypeError",
     "evalue": "can only assign an iterable",
     "output_type": "error",
     "traceback": [
      "\u001b[1;31m---------------------------------------------------------------------------\u001b[0m",
      "\u001b[1;31mTypeError\u001b[0m                                 Traceback (most recent call last)",
      "Cell \u001b[1;32mIn[4], line 64\u001b[0m\n\u001b[0;32m     61\u001b[0m boundary \u001b[38;5;241m=\u001b[39m boundary_conditions\n\u001b[0;32m     63\u001b[0m tplot \u001b[38;5;241m=\u001b[39m [\u001b[38;5;241m0\u001b[39m, \u001b[38;5;241m50\u001b[39m, \u001b[38;5;241m100\u001b[39m, \u001b[38;5;241m200\u001b[39m, \u001b[38;5;241m300\u001b[39m]  \u001b[38;5;66;03m# Example time steps to plot\u001b[39;00m\n\u001b[1;32m---> 64\u001b[0m \u001b[43mcrank_nicolson_magnetic_diffusion\u001b[49m\u001b[43m(\u001b[49m\u001b[43mx\u001b[49m\u001b[43m,\u001b[49m\u001b[43m \u001b[49m\u001b[43mT\u001b[49m\u001b[43m,\u001b[49m\u001b[43m \u001b[49m\u001b[43meta\u001b[49m\u001b[43m,\u001b[49m\u001b[43m \u001b[49m\u001b[43mNx\u001b[49m\u001b[43m,\u001b[49m\u001b[43m \u001b[49m\u001b[43mNt\u001b[49m\u001b[43m,\u001b[49m\u001b[43m \u001b[49m\u001b[43mL\u001b[49m\u001b[43m,\u001b[49m\u001b[43m \u001b[49m\u001b[43mT\u001b[49m\u001b[43m,\u001b[49m\u001b[43m \u001b[49m\u001b[43minitial\u001b[49m\u001b[43m,\u001b[49m\u001b[43m \u001b[49m\u001b[43mboundary\u001b[49m\u001b[43m)\u001b[49m\n",
      "Cell \u001b[1;32mIn[4], line 39\u001b[0m, in \u001b[0;36mcrank_nicolson_magnetic_diffusion\u001b[1;34m(x, t, eta, Nx, Nt, L, T, initial, boundary)\u001b[0m\n\u001b[0;32m     37\u001b[0m \u001b[38;5;66;03m# Time-stepping loop\u001b[39;00m\n\u001b[0;32m     38\u001b[0m \u001b[38;5;28;01mfor\u001b[39;00m j \u001b[38;5;129;01min\u001b[39;00m \u001b[38;5;28mrange\u001b[39m(Nt):\n\u001b[1;32m---> 39\u001b[0m     \u001b[43mboundary\u001b[49m\u001b[43m(\u001b[49m\u001b[43mB\u001b[49m\u001b[43m)\u001b[49m\n\u001b[0;32m     40\u001b[0m     \u001b[38;5;66;03m# Solve for the next time step using Thomas algorithm (Tri-diagonal matrix algorithm)\u001b[39;00m\n\u001b[0;32m     41\u001b[0m     \u001b[38;5;28;01mfor\u001b[39;00m i \u001b[38;5;129;01min\u001b[39;00m \u001b[38;5;28mrange\u001b[39m(\u001b[38;5;241m1\u001b[39m, Nx):\n",
      "Cell \u001b[1;32mIn[4], line 6\u001b[0m, in \u001b[0;36mboundary_conditions\u001b[1;34m(B)\u001b[0m\n\u001b[0;32m      5\u001b[0m \u001b[38;5;28;01mdef\u001b[39;00m \u001b[38;5;21mboundary_conditions\u001b[39m(B):\n\u001b[1;32m----> 6\u001b[0m     \u001b[43mB\u001b[49m\u001b[43m[\u001b[49m\u001b[38;5;241;43m0\u001b[39;49m\u001b[43m]\u001b[49m\u001b[43m[\u001b[49m\u001b[43m:\u001b[49m\u001b[43m]\u001b[49m \u001b[38;5;241m=\u001b[39m \u001b[38;5;241m0\u001b[39m\n\u001b[0;32m      7\u001b[0m     B[\u001b[38;5;241m-\u001b[39m\u001b[38;5;241m1\u001b[39m][:] \u001b[38;5;241m=\u001b[39m \u001b[38;5;241m0\u001b[39m\n\u001b[0;32m      8\u001b[0m     \u001b[38;5;28;01mreturn\u001b[39;00m B\n",
      "\u001b[1;31mTypeError\u001b[0m: can only assign an iterable"
     ]
    }
   ],
   "source": [
    "import matplotlib.pyplot as plt\n",
    "import numpy as np\n",
    "def initial_condition(x):\n",
    "    return 50000 * np.sin(np.pi *(x+1)/2)\n",
    "def boundary_conditions(B):\n",
    "    B[0][:] = 0\n",
    "    B[-1][:] = 0\n",
    "    return B\n",
    "def crank_nicolson_magnetic_diffusion(x, t, eta, Nx, Nt, L, T, initial, boundary):\n",
    "    dx = L / Nx\n",
    "    dt = T / Nt\n",
    "    r = eta * dt / (2 * dx**2)\n",
    "    \n",
    "    # Initialize the magnetic field matrix\n",
    "    B = [[0] * (Nt + 1) for _ in range(Nx + 1)]\n",
    "    for i in range(Nx + 1):\n",
    "        B[i][0] = initial(x[i])\n",
    "    \n",
    "    # Construct the tri-diagonal matrix A\n",
    "    A = [[0] * (Nx - 1) for _ in range(Nx - 1)]\n",
    "    for i in range(Nx - 1):\n",
    "        A[i][i] = 1 + 2 * r\n",
    "        if i > 0:\n",
    "            A[i][i - 1] = -r\n",
    "        if i < Nx - 2:\n",
    "            A[i][i + 1] = -r\n",
    "    \n",
    "    # Construct the B matrix\n",
    "    B_matrix = [[0] * (Nx - 1) for _ in range(Nx - 1)]\n",
    "    for i in range(Nx - 1):\n",
    "        B_matrix[i][i] = 1 - 2 * r\n",
    "        if i > 0:\n",
    "            B_matrix[i][i - 1] = r\n",
    "        if i < Nx - 2:\n",
    "            B_matrix[i][i + 1] = r\n",
    "    \n",
    "    # Time-stepping loop\n",
    "    for j in range(Nt):\n",
    "        boundary(B)\n",
    "        # Solve for the next time step using Thomas algorithm (Tri-diagonal matrix algorithm)\n",
    "        for i in range(1, Nx):\n",
    "            B[i][j + 1] = (B[i][j] + r * (B[i - 1][j] - 2 * B[i][j] + B[i + 1][j])) / (1 + 2 * r)\n",
    "        \n",
    "        # Plot if j is in tplot\n",
    "        if j in tplot:\n",
    "            plt.plot(x, B[:, j], label=str(j))\n",
    "    \n",
    "    plt.xlabel('X')\n",
    "    plt.ylabel('Magnetic Field')\n",
    "    plt.legend()\n",
    "    plt.show()\n",
    "\n",
    "# Example usage\n",
    "L = 10\n",
    "T = 5\n",
    "Nx = 100\n",
    "Nt = 1000\n",
    "eta = 0.1\n",
    "x = [i * L / Nx for i in range(Nx + 1)]\n",
    "initial = lambda x: np.sin(np.pi * x / L)\n",
    "boundary = boundary_conditions\n",
    "\n",
    "tplot = [0, 50, 100, 200, 300]  # Example time steps to plot\n",
    "crank_nicolson_magnetic_diffusion(x, T, eta, Nx, Nt, L, T, initial, boundary)\n"
   ]
  }
 ],
 "metadata": {
  "kernelspec": {
   "display_name": "Python 3",
   "language": "python",
   "name": "python3"
  },
  "language_info": {
   "codemirror_mode": {
    "name": "ipython",
    "version": 3
   },
   "file_extension": ".py",
   "mimetype": "text/x-python",
   "name": "python",
   "nbconvert_exporter": "python",
   "pygments_lexer": "ipython3",
   "version": "3.11.4"
  }
 },
 "nbformat": 4,
 "nbformat_minor": 2
}
