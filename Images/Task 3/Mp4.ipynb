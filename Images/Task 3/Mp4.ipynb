{
 "cells": [
  {
   "cell_type": "code",
   "execution_count": 2,
   "metadata": {},
   "outputs": [
    {
     "name": "stdout",
     "output_type": "stream",
     "text": [
      "Moviepy - Building video sin32h.mp4.\n",
      "Moviepy - Writing video sin32h.mp4\n",
      "\n"
     ]
    },
    {
     "name": "stderr",
     "output_type": "stream",
     "text": [
      "                                                                 "
     ]
    },
    {
     "name": "stdout",
     "output_type": "stream",
     "text": [
      "Moviepy - Done !\n",
      "Moviepy - video ready sin32h.mp4\n"
     ]
    },
    {
     "name": "stderr",
     "output_type": "stream",
     "text": [
      "\r"
     ]
    }
   ],
   "source": [
    "from moviepy.editor import *\n",
    "\n",
    "gif_path = \"sin32h.gif\"\n",
    "gif_clip = VideoFileClip(gif_path)\n",
    "\n",
    "mp4_path = \"sin32h.mp4\"\n",
    "\n",
    "gif_clip.write_videofile(mp4_path)\n",
    "gif_clip.close()"
   ]
  },
  {
   "cell_type": "code",
   "execution_count": 6,
   "metadata": {},
   "outputs": [
    {
     "name": "stdout",
     "output_type": "stream",
     "text": [
      "Moviepy - Building video sin16h.mp4.\n",
      "Moviepy - Writing video sin16h.mp4\n",
      "\n"
     ]
    },
    {
     "name": "stderr",
     "output_type": "stream",
     "text": [
      "                                                                 \r"
     ]
    },
    {
     "name": "stdout",
     "output_type": "stream",
     "text": [
      "Moviepy - Done !\n",
      "Moviepy - video ready sin16h.mp4\n"
     ]
    }
   ],
   "source": [
    "from moviepy.editor import *\n",
    "\n",
    "gif_path = \"sin16h.gif\"\n",
    "gif_clip = VideoFileClip(gif_path)\n",
    "\n",
    "mp4_path = \"sin16h.mp4\"\n",
    "\n",
    "gif_clip.write_videofile(mp4_path)\n",
    "gif_clip.close()"
   ]
  },
  {
   "cell_type": "code",
   "execution_count": 7,
   "metadata": {},
   "outputs": [
    {
     "name": "stdout",
     "output_type": "stream",
     "text": [
      "Moviepy - Building video combined_videos.mp4.\n",
      "Moviepy - Writing video combined_videos.mp4\n",
      "\n"
     ]
    },
    {
     "name": "stderr",
     "output_type": "stream",
     "text": [
      "                                                                \r"
     ]
    },
    {
     "name": "stdout",
     "output_type": "stream",
     "text": [
      "Moviepy - Done !\n",
      "Moviepy - video ready combined_videos.mp4\n"
     ]
    }
   ],
   "source": [
    "from moviepy.editor import *\n",
    "\n",
    "# Load the two videos\n",
    "video1 = VideoFileClip(\"sin32h.mp4\")\n",
    "video2 = VideoFileClip(\"sin16h.mp4\")\n",
    "\n",
    "# Resize the videos to the same height\n",
    "video1 = video1.resize(height=480) # Adjust height as needed\n",
    "video2 = video2.resize(height=480) # Adjust height as needed\n",
    "\n",
    "# Combine the videos side by side\n",
    "final_clip = clips_array([[video1, video2]])\n",
    "\n",
    "# Write the final clip to a file\n",
    "final_clip.write_videofile(\"combined_videos.mp4\", codec=\"libx264\")\n",
    "\n",
    "# Close the clips\n",
    "video1.close()\n",
    "video2.close()\n"
   ]
  }
 ],
 "metadata": {
  "kernelspec": {
   "display_name": "Python 3",
   "language": "python",
   "name": "python3"
  },
  "language_info": {
   "codemirror_mode": {
    "name": "ipython",
    "version": 3
   },
   "file_extension": ".py",
   "mimetype": "text/x-python",
   "name": "python",
   "nbconvert_exporter": "python",
   "pygments_lexer": "ipython3",
   "version": "3.11.4"
  }
 },
 "nbformat": 4,
 "nbformat_minor": 2
}
